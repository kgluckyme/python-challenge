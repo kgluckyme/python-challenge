{
 "cells": [
  {
   "cell_type": "code",
   "execution_count": 2,
   "id": "8aae90f9-23af-4f03-9b7c-a247cce77f6b",
   "metadata": {},
   "outputs": [
    {
     "name": "stdout",
     "output_type": "stream",
     "text": [
      "Financial Analysis\n",
      "------------------------\n",
      "Total Months:                       86\n",
      "Total:                              $38382578\n",
      "Average Change:                     -2315.12\n",
      "Greatest Increase in Profits:       Feb-2012 ($1926159)\n",
      "Greatest Decrease in Profits:       Sep-2013 ($-2196167)\n"
     ]
    }
   ],
   "source": [
    "#importing packages which let me manipulate csv data\n",
    "\n",
    "import os\n",
    "import csv\n",
    "file = os.path.join('..', 'PyBank', 'budget_data.csv')\n",
    "#going to have to learn a bit more about this\n",
    "with open('budget_data.csv','r') as csvfile:\n",
    "    csvreader = csv.reader(csvfile, delimiter = ',')\n",
    "    header = next(csvreader)\n",
    "    #lists to store csv data \n",
    "    month_count = []\n",
    "    profit = []\n",
    "    change_profit = []\n",
    "    \n",
    "                      \n",
    "#iterate through values and stack them into a list\n",
    "    for row in csvreader:\n",
    "        month_count.append(row[0])\n",
    "        profit.append(int(row[1]))\n",
    "    for i in range(len(profit)-1):\n",
    "        change_profit.append(profit[i+1]-profit[i])\n",
    "                      \n",
    "#evaluate max/min values\n",
    "increase = max(change_profit)\n",
    "decrease = min(change_profit)\n",
    "\n",
    "#using the index \n",
    "month_increase = change_profit.index(max(change_profit))+1\n",
    "month_decrease = change_profit.index(min(change_profit))+1\n",
    "\n",
    "\n",
    "print(f\"Financial Analysis\")\n",
    "print(f\"------------------------\")\n",
    "print(f\"Total Months:                       {len(month_count)}\")\n",
    "print(f\"Total:                              ${sum(profit)}\")\n",
    "print(f\"Average Change:                     {round(sum(change_profit)/len(change_profit),2)}\")\n",
    "print(f\"Greatest Increase in Profits:       {month_count[month_increase]} (${(str(increase))})\")\n",
    "print(f\"Greatest Decrease in Profits:       {month_count[month_decrease]} (${(str(decrease))})\")      \n",
    "\n",
    "output = os.path.join(\".\", 'output.txt')\n",
    "with open(output,\"w\") as new:\n",
    "    new.write(\"Financial Analysis\")\n",
    "    new.write(\"\\n\")\n",
    "    new.write(\"------------------------\")\n",
    "    new.write(\"\\n\")\n",
    "    new.write(f\"Total Months:{len(month_count)}\")\n",
    "    new.write(\"\\n\")\n",
    "    new.write(f\"Total: ${sum(profit)}\")\n",
    "    new.write(\"\\n\")\n",
    "    new.write(f\"Average Change: {round(sum(change_profit)/len(change_profit),2)}\")\n",
    "    new.write(\"\\n\")\n",
    "    new.write(f\"Greatest Increase in Profits: {month_count[month_increase]} (${(str(increase))})\")\n",
    "    new.write(\"\\n\")\n",
    "    new.write(f\"Greatest Decrease in Profits: {month_count[month_decrease]} (${(str(decrease))})\")"
   ]
  },
  {
   "cell_type": "code",
   "execution_count": null,
   "id": "263fb788-67af-4beb-a60f-30f9113efdf3",
   "metadata": {},
   "outputs": [],
   "source": []
  }
 ],
 "metadata": {
  "kernelspec": {
   "display_name": "Python 3 (ipykernel)",
   "language": "python",
   "name": "python3"
  },
  "language_info": {
   "codemirror_mode": {
    "name": "ipython",
    "version": 3
   },
   "file_extension": ".py",
   "mimetype": "text/x-python",
   "name": "python",
   "nbconvert_exporter": "python",
   "pygments_lexer": "ipython3",
   "version": "3.9.12"
  }
 },
 "nbformat": 4,
 "nbformat_minor": 5
}
